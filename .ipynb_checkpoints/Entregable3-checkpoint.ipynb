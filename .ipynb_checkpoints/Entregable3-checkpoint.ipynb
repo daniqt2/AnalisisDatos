{
 "cells": [
  {
   "cell_type": "code",
   "execution_count": 1,
   "metadata": {},
   "outputs": [],
   "source": [
    "import pandas as pd"
   ]
  },
  {
   "cell_type": "code",
   "execution_count": 4,
   "metadata": {},
   "outputs": [],
   "source": [
    "x = pd.read_csv(\"meteo_calidad_2015.csv\")"
   ]
  },
  {
   "cell_type": "code",
   "execution_count": 7,
   "metadata": {},
   "outputs": [
    {
     "name": "stdout",
     "output_type": "stream",
     "text": [
      "    Dia Dia_mes Mes Dia_sem Lluvia T_MAX T_MIN Viento_MAX Viento_MED SO2 CO NO NO2 PM2.5 PM10 O3 TOL BEN EBE TCH NMCH SO2_MAX CO_MAX NO_MAX NO2_MAX PM2.5_MAX PM10_MAX O3_MAX TOL_MAX BEN_MAX EBE_MAX TCH_MAX NMCH_MAX\n",
      "0    1 1 ENE J 0 10.7 -0.6 14 5 14.1 0.94 137.54166...                                                                                                                                                                \n",
      "1    2 2 ENE V 0 12.5 -0.4 11 5 15.4 0.96 159.375 1...                                                                                                                                                                \n",
      "2    3 3 ENE S 0 11.7 1.4 14 8 13.7 0.84 132.208333...                                                                                                                                                                \n",
      "3    4 4 ENE D 0 14.4 1.4 12 6 14.2 0.92 120.583333...                                                                                                                                                                \n",
      "4    5 5 ENE L 0 12.3 2 19 9 12.4 0.8 119.2083333 8...                                                                                                                                                                \n",
      "..                                                 ...                                                                                                                                                                \n",
      "360  361 27 DIC D 0 13.8 5.9 23 13 11 0.43 20.58333...                                                                                                                                                                \n",
      "361  362 28 DIC L 0.7 14.1 6.4 30 14 9.7 0.39 23.16...                                                                                                                                                                \n",
      "362  363 29 DIC M 0 10.7 6 22 9 7.9 0.34 24.3333333...                                                                                                                                                                \n",
      "363  364 30 DIC X 0 10.4 7 18 9 8.2 0.35 18.4583333...                                                                                                                                                                \n",
      "364  365 31 DIC J 0.6 12.2 9.2 22 10 8 0.38 23.75 4...                                                                                                                                                                \n",
      "\n",
      "[365 rows x 1 columns]\n"
     ]
    }
   ],
   "source": [
    "print(x)"
   ]
  },
  {
   "cell_type": "code",
   "execution_count": null,
   "metadata": {},
   "outputs": [],
   "source": []
  }
 ],
 "metadata": {
  "kernelspec": {
   "display_name": "Python 3",
   "language": "python",
   "name": "python3"
  },
  "language_info": {
   "codemirror_mode": {
    "name": "ipython",
    "version": 3
   },
   "file_extension": ".py",
   "mimetype": "text/x-python",
   "name": "python",
   "nbconvert_exporter": "python",
   "pygments_lexer": "ipython3",
   "version": "3.7.4"
  }
 },
 "nbformat": 4,
 "nbformat_minor": 2
}
